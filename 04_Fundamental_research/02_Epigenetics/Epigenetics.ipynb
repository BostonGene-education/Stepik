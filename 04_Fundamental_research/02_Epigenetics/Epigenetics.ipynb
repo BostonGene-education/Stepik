{
 "cells": [
  {
   "cell_type": "markdown",
   "metadata": {},
   "source": [
    "# Import"
   ]
  },
  {
   "cell_type": "code",
   "execution_count": null,
   "metadata": {
    "ExecuteTime": {
     "end_time": "2020-12-17T13:39:34.165191Z",
     "start_time": "2020-12-17T13:39:31.915154Z"
    }
   },
   "outputs": [],
   "source": [
    "import pandas as pd\n",
    "import numpy as np\n",
    "import seaborn as sns\n",
    "import matplotlib"
   ]
  },
  {
   "cell_type": "markdown",
   "metadata": {},
   "source": [
    "# Overall promoter methylation"
   ]
  },
  {
   "cell_type": "markdown",
   "metadata": {},
   "source": [
    "We'll analyse methylation in Lower Grade Glioma (brain cancer)."
   ]
  },
  {
   "cell_type": "markdown",
   "metadata": {},
   "source": [
    "First, let's look at overall methylation landscape in LGG. \n",
    "\n",
    "We have methylation signal of 1000 cytosines in CpG islands in gene promoters."
   ]
  },
  {
   "cell_type": "code",
   "execution_count": null,
   "metadata": {
    "ExecuteTime": {
     "end_time": "2020-12-17T13:39:38.178880Z",
     "start_time": "2020-12-17T13:39:37.959586Z"
    },
    "scrolled": true
   },
   "outputs": [],
   "source": [
    "island_promoter_methylation = pd.read_csv('./1000_island_promoter_probes.tsv', sep='\\t', index_col=0)\n",
    "island_promoter_methylation.shape"
   ]
  },
  {
   "cell_type": "code",
   "execution_count": null,
   "metadata": {
    "ExecuteTime": {
     "end_time": "2020-12-17T13:39:39.701373Z",
     "start_time": "2020-12-17T13:39:39.663028Z"
    }
   },
   "outputs": [],
   "source": [
    "island_promoter_methylation.head()"
   ]
  },
  {
   "cell_type": "code",
   "execution_count": null,
   "metadata": {
    "ExecuteTime": {
     "end_time": "2020-12-17T13:39:44.373452Z",
     "start_time": "2020-12-17T13:39:41.296643Z"
    }
   },
   "outputs": [],
   "source": [
    "sns.clustermap(island_promoter_methylation, cmap=matplotlib.cm.Greens, figsize=(6, 6))"
   ]
  },
  {
   "cell_type": "markdown",
   "metadata": {},
   "source": [
    "We see two clusters of samples: with low and high methylation. What is the biology of these two clusters?"
   ]
  },
  {
   "cell_type": "markdown",
   "metadata": {},
   "source": [
    "Many samples in LGG have mutated IDH gene."
   ]
  },
  {
   "cell_type": "code",
   "execution_count": null,
   "metadata": {
    "ExecuteTime": {
     "end_time": "2020-12-17T13:39:49.401844Z",
     "start_time": "2020-12-17T13:39:49.393375Z"
    }
   },
   "outputs": [],
   "source": [
    "idh_annotation = pd.read_csv('./IDH_mutation_annotation.tsv', sep='\\t', index_col=0)['IDH_status']\n",
    "idh_annotation.shape"
   ]
  },
  {
   "cell_type": "code",
   "execution_count": null,
   "metadata": {
    "ExecuteTime": {
     "end_time": "2020-12-17T13:39:49.694709Z",
     "start_time": "2020-12-17T13:39:49.686172Z"
    },
    "scrolled": true
   },
   "outputs": [],
   "source": [
    "idh_annotation"
   ]
  },
  {
   "cell_type": "markdown",
   "metadata": {},
   "source": [
    "We see two clusters of methylaltion: hyper and hypo methylated samples. How are these clusters associated with IDH mutation?"
   ]
  },
  {
   "cell_type": "code",
   "execution_count": null,
   "metadata": {
    "ExecuteTime": {
     "end_time": "2020-12-17T13:39:57.030984Z",
     "start_time": "2020-12-17T13:39:53.593370Z"
    }
   },
   "outputs": [],
   "source": [
    "sns.clustermap(island_promoter_methylation, cmap=matplotlib.cm.Greens,\n",
    "              col_colors=idh_annotation.map({'WT': \"green\", 'Mutant': \"red\"}),\n",
    "              figsize=(6, 6))"
   ]
  },
  {
   "cell_type": "markdown",
   "metadata": {},
   "source": [
    "IDH-mut samples have hypermethylated phenotype, IDH-wt samples - hypomethylated. This happends, because mutated IDH inhibits demethylation in cancer cells."
   ]
  },
  {
   "cell_type": "markdown",
   "metadata": {},
   "source": [
    "**Task 1**\n",
    "\n",
    "Calcultate mean island promoter methylation in IDHmut and IHDwt groups"
   ]
  },
  {
   "cell_type": "code",
   "execution_count": null,
   "metadata": {},
   "outputs": [],
   "source": []
  },
  {
   "cell_type": "markdown",
   "metadata": {},
   "source": [
    "# MLH3  methylation"
   ]
  },
  {
   "cell_type": "markdown",
   "metadata": {},
   "source": [
    "Next we'll analyse methylation of gene MLH3.\n",
    "\n",
    "MLH3 gene maintains genomic integrity during DNA replication. It is involved in DNA mismatch repair pathway. Cancer cells often silence this gene to acquire more mutations. MLH3 can be silenced by mutation, deletion or hypermethylation."
   ]
  },
  {
   "cell_type": "markdown",
   "metadata": {},
   "source": [
    "## Promoter"
   ]
  },
  {
   "cell_type": "markdown",
   "metadata": {},
   "source": [
    "Let's look at methylation of MLH3 promoter"
   ]
  },
  {
   "cell_type": "code",
   "execution_count": null,
   "metadata": {
    "ExecuteTime": {
     "end_time": "2020-12-17T13:41:12.986587Z",
     "start_time": "2020-12-17T13:41:12.785030Z"
    }
   },
   "outputs": [],
   "source": [
    "mlh3_methylation_promoter = pd.read_csv('./MLH3_promoter_probes_methylation.tsv', sep='\\t', index_col=0)\n",
    "mlh3_methylation_promoter.shape"
   ]
  },
  {
   "cell_type": "code",
   "execution_count": null,
   "metadata": {
    "ExecuteTime": {
     "end_time": "2020-12-17T13:41:13.777429Z",
     "start_time": "2020-12-17T13:41:13.733057Z"
    }
   },
   "outputs": [],
   "source": [
    "mlh3_methylation_promoter"
   ]
  },
  {
   "cell_type": "code",
   "execution_count": null,
   "metadata": {
    "ExecuteTime": {
     "end_time": "2020-12-17T13:41:14.717844Z",
     "start_time": "2020-12-17T13:41:14.705969Z"
    }
   },
   "outputs": [],
   "source": [
    "mlh3_expression = pd.read_csv('./MLH3_expression.tsv', sep='\\t', index_col=0)['MLH3_expression']\n",
    "mlh3_expression.shape"
   ]
  },
  {
   "cell_type": "code",
   "execution_count": null,
   "metadata": {
    "ExecuteTime": {
     "end_time": "2020-12-17T13:41:16.923714Z",
     "start_time": "2020-12-17T13:41:16.909504Z"
    },
    "scrolled": true
   },
   "outputs": [],
   "source": [
    "mlh3_expression"
   ]
  },
  {
   "cell_type": "markdown",
   "metadata": {},
   "source": [
    "Count mean methylation of promoter"
   ]
  },
  {
   "cell_type": "code",
   "execution_count": null,
   "metadata": {
    "ExecuteTime": {
     "end_time": "2020-12-17T13:41:19.612589Z",
     "start_time": "2020-12-17T13:41:19.602280Z"
    }
   },
   "outputs": [],
   "source": [
    "mlh3_methylation_promoter_mean = mlh3_methylation_promoter.mean()\n",
    "mlh3_methylation_promoter_mean = mlh3_methylation_promoter_mean.rename(\"MLH3_mean_promoter_methylation\")"
   ]
  },
  {
   "cell_type": "code",
   "execution_count": null,
   "metadata": {
    "ExecuteTime": {
     "end_time": "2020-12-17T13:41:20.850215Z",
     "start_time": "2020-12-17T13:41:20.839647Z"
    },
    "scrolled": true
   },
   "outputs": [],
   "source": [
    "mlh3_methylation_promoter_mean"
   ]
  },
  {
   "cell_type": "markdown",
   "metadata": {},
   "source": [
    "Is there correlation between promoter methylation and expression?"
   ]
  },
  {
   "cell_type": "code",
   "execution_count": null,
   "metadata": {
    "ExecuteTime": {
     "end_time": "2020-12-17T13:41:26.995860Z",
     "start_time": "2020-12-17T13:41:25.359850Z"
    },
    "scrolled": false
   },
   "outputs": [],
   "source": [
    "sns.jointplot(mlh3_methylation_promoter_mean, mlh3_expression, kind='reg')"
   ]
  },
  {
   "cell_type": "markdown",
   "metadata": {},
   "source": [
    "**Task 2**  \n",
    "Count Spearman correlation"
   ]
  },
  {
   "cell_type": "code",
   "execution_count": null,
   "metadata": {},
   "outputs": [],
   "source": []
  },
  {
   "cell_type": "markdown",
   "metadata": {
    "ExecuteTime": {
     "end_time": "2020-11-26T13:53:35.775070Z",
     "start_time": "2020-11-26T13:53:35.770199Z"
    }
   },
   "source": [
    "**Task 3.1**    \n",
    "Let's calculate how many samples have methylated and umnethylated MLH3 promoter?   \n",
    "To solve this, first find the threshold for promoter methylatin using sns.distplot(). Select theshold from 0, 0.1, 0.2, ..., 0.9, 1"
   ]
  },
  {
   "cell_type": "markdown",
   "metadata": {},
   "source": [
    "**Task 3.2**    \n",
    "Now calculate how many samples have methylated and umnethylated MLH3 promoter?   "
   ]
  },
  {
   "cell_type": "code",
   "execution_count": null,
   "metadata": {},
   "outputs": [],
   "source": []
  },
  {
   "cell_type": "markdown",
   "metadata": {},
   "source": [
    "## Gene body "
   ]
  },
  {
   "cell_type": "markdown",
   "metadata": {},
   "source": [
    "Let's look at methylation of MLH3 gene body"
   ]
  },
  {
   "cell_type": "code",
   "execution_count": null,
   "metadata": {
    "ExecuteTime": {
     "end_time": "2020-12-17T13:45:03.740347Z",
     "start_time": "2020-12-17T13:45:03.657850Z"
    }
   },
   "outputs": [],
   "source": [
    "mlh3_methylation_body = pd.read_csv('./MLH3_gene_body_probes_methylation.tsv', sep='\\t', index_col=0)\n",
    "mlh3_methylation_body.shape"
   ]
  },
  {
   "cell_type": "markdown",
   "metadata": {},
   "source": [
    "Count mean methylation of gene body"
   ]
  },
  {
   "cell_type": "code",
   "execution_count": null,
   "metadata": {
    "ExecuteTime": {
     "end_time": "2020-12-17T13:45:04.309760Z",
     "start_time": "2020-12-17T13:45:04.301889Z"
    }
   },
   "outputs": [],
   "source": [
    "mlh3_methylation_body_mean = mlh3_methylation_body.mean()\n",
    "mlh3_methylation_body_mean = mlh3_methylation_body_mean.rename(\"MLH3_mean_gene_body_methylation\")"
   ]
  },
  {
   "cell_type": "code",
   "execution_count": null,
   "metadata": {
    "ExecuteTime": {
     "end_time": "2020-12-17T13:45:07.339168Z",
     "start_time": "2020-12-17T13:45:05.241893Z"
    }
   },
   "outputs": [],
   "source": [
    "sns.jointplot(mlh3_methylation_body_mean, mlh3_expression, kind='reg')"
   ]
  },
  {
   "cell_type": "markdown",
   "metadata": {},
   "source": [
    "**Task 4**  \n",
    "\n",
    "Count Sperman correlation"
   ]
  },
  {
   "cell_type": "markdown",
   "metadata": {},
   "source": [
    "## MLH3 methylation and IDH mutation"
   ]
  },
  {
   "cell_type": "markdown",
   "metadata": {},
   "source": [
    "Is there any difference in MLH3 methylation in IDH-mutatant and IDH-wild-type samples?"
   ]
  },
  {
   "cell_type": "markdown",
   "metadata": {},
   "source": [
    "Let's make dataframe with data, which are necessary for plotting"
   ]
  },
  {
   "cell_type": "code",
   "execution_count": null,
   "metadata": {
    "ExecuteTime": {
     "end_time": "2020-12-17T13:45:26.924041Z",
     "start_time": "2020-12-17T13:45:26.918928Z"
    }
   },
   "outputs": [],
   "source": [
    "mlh3_methylation = pd.DataFrame()"
   ]
  },
  {
   "cell_type": "code",
   "execution_count": null,
   "metadata": {
    "ExecuteTime": {
     "end_time": "2020-12-17T13:45:27.210246Z",
     "start_time": "2020-12-17T13:45:27.200139Z"
    }
   },
   "outputs": [],
   "source": [
    "mlh3_methylation['Promoter'] = mlh3_methylation_promoter_mean"
   ]
  },
  {
   "cell_type": "code",
   "execution_count": null,
   "metadata": {
    "ExecuteTime": {
     "end_time": "2020-12-17T13:45:27.435010Z",
     "start_time": "2020-12-17T13:45:27.427613Z"
    }
   },
   "outputs": [],
   "source": [
    "mlh3_methylation['Body'] = mlh3_methylation_body_mean"
   ]
  },
  {
   "cell_type": "code",
   "execution_count": null,
   "metadata": {
    "ExecuteTime": {
     "end_time": "2020-12-17T13:45:27.632928Z",
     "start_time": "2020-12-17T13:45:27.627761Z"
    }
   },
   "outputs": [],
   "source": [
    "mlh3_methylation['IDH_status'] = idh_annotation"
   ]
  },
  {
   "cell_type": "code",
   "execution_count": null,
   "metadata": {
    "ExecuteTime": {
     "end_time": "2020-12-17T13:45:27.860372Z",
     "start_time": "2020-12-17T13:45:27.842449Z"
    },
    "scrolled": true
   },
   "outputs": [],
   "source": [
    "mlh3_methylation"
   ]
  },
  {
   "cell_type": "code",
   "execution_count": null,
   "metadata": {
    "ExecuteTime": {
     "end_time": "2020-12-17T13:45:29.505007Z",
     "start_time": "2020-12-17T13:45:29.144583Z"
    }
   },
   "outputs": [],
   "source": [
    "pd.DataFrame(mlh3_methylation).boxplot(column='Promoter', by='IDH_status', grid=False, figsize=(4, 5))"
   ]
  },
  {
   "cell_type": "markdown",
   "metadata": {},
   "source": [
    "MLH3 methylation in promoter is higher in IDH-mutant samples."
   ]
  },
  {
   "cell_type": "markdown",
   "metadata": {},
   "source": [
    "**Task 5**  \n",
    "\n",
    "What % of IDHmut samples have hypermethylated MLH3?\n",
    "What % of IDHwt samples have hypermethylated MLH3?"
   ]
  },
  {
   "cell_type": "code",
   "execution_count": null,
   "metadata": {},
   "outputs": [],
   "source": []
  },
  {
   "cell_type": "markdown",
   "metadata": {
    "ExecuteTime": {
     "end_time": "2020-12-17T13:46:50.695027Z",
     "start_time": "2020-12-17T13:46:50.691421Z"
    }
   },
   "source": [
    "MLH3 methylation in body is similar between groups."
   ]
  },
  {
   "cell_type": "code",
   "execution_count": null,
   "metadata": {
    "ExecuteTime": {
     "end_time": "2020-11-26T13:58:11.395848Z",
     "start_time": "2020-11-26T13:58:11.191874Z"
    }
   },
   "outputs": [],
   "source": [
    "pd.DataFrame(mlh3_methylation).boxplot(column='Body', by='IDH_status', grid=False, figsize=(4, 5))"
   ]
  },
  {
   "cell_type": "markdown",
   "metadata": {},
   "source": [
    "Methylation of MLH3 gene body is the same in IDH-mutant and IDH-wild type samples."
   ]
  }
 ],
 "metadata": {
  "kernelspec": {
   "display_name": "user_python3",
   "language": "python",
   "name": "user_python3"
  },
  "language_info": {
   "codemirror_mode": {
    "name": "ipython",
    "version": 3
   },
   "file_extension": ".py",
   "mimetype": "text/x-python",
   "name": "python",
   "nbconvert_exporter": "python",
   "pygments_lexer": "ipython3",
   "version": "3.7.5"
  },
  "toc": {
   "base_numbering": 1,
   "nav_menu": {},
   "number_sections": true,
   "sideBar": true,
   "skip_h1_title": false,
   "title_cell": "Table of Contents",
   "title_sidebar": "Contents",
   "toc_cell": false,
   "toc_position": {
    "height": "calc(100% - 180px)",
    "left": "10px",
    "top": "150px",
    "width": "282.298px"
   },
   "toc_section_display": true,
   "toc_window_display": true
  }
 },
 "nbformat": 4,
 "nbformat_minor": 2
}
