{
  "nbformat": 4,
  "nbformat_minor": 0,
  "metadata": {
    "colab": {
      "name": "first_steps.ipynb",
      "provenance": [],
      "toc_visible": true,
      "authorship_tag": "ABX9TyPRk04wA/7aHWg3Mg4jRVmo",
      "include_colab_link": true
    },
    "kernelspec": {
      "name": "python3",
      "display_name": "Python 3"
    }
  },
  "cells": [
    {
      "cell_type": "markdown",
      "metadata": {
        "id": "view-in-github",
        "colab_type": "text"
      },
      "source": [
        "<a href=\"https://colab.research.google.com/github/BostonGene-education/Stepik/blob/main/00_Introduction/00_Overview/first_steps.ipynb\" target=\"_parent\"><img src=\"https://colab.research.google.com/assets/colab-badge.svg\" alt=\"Open In Colab\"/></a>"
      ]
    },
    {
      "cell_type": "markdown",
      "metadata": {
        "id": "aanL00_wtH21"
      },
      "source": [
        "<img src=\"https://blastim.ru/wp-content/uploads/wpjobboard/company/49/company-logo/bostongene-logo.jpg\" width=500 align=\"center\">\n",
        "\n",
        "\n",
        "# Введение в Google Colab\n",
        "\n",
        "Это первый обучающий ноутбук из курса по анализу данных NGS в онкологии от компании BostonGene. В нём мы кратко покажем возможности Google Colab; также он необходим для выполнения задания из курса."
      ]
    },
    {
      "cell_type": "markdown",
      "metadata": {
        "id": "S59FOC_ltu4B"
      },
      "source": [
        "Функционал Google Colab такой же, как и функционал Jupyter Notebook. Нарисуем график функции $ \\sin(x) $ на интервале $ [0; 4 \\pi] $."
      ]
    },
    {
      "cell_type": "code",
      "metadata": {
        "colab": {
          "base_uri": "https://localhost:8080/",
          "height": 265
        },
        "id": "2vz9fnsns0uv",
        "outputId": "e5748fd0-428a-4464-824e-ad70bb700182"
      },
      "source": [
        "import numpy as np\n",
        "import matplotlib.pyplot as plt\n",
        "\n",
        "x = np.arange(0, 4*np.pi, 0.01)\n",
        "y = np.sin(x)\n",
        "plt.plot(x, y)\n",
        "plt.grid()"
      ],
      "execution_count": 13,
      "outputs": [
        {
          "output_type": "display_data",
          "data": {
            "image/png": "[encoded data removed]",
            "text/plain": [
              "<Figure size 432x288 with 1 Axes>"
            ]
          },
          "metadata": {
            "tags": [],
            "needs_background": "light"
          }
        }
      ]
    },
    {
      "cell_type": "markdown",
      "metadata": {
        "id": "_Osk9KYqxVFk"
      },
      "source": [
        "Также в Google Colab можно устанавливать необходимые пакеты и в целом спокойно пользоваться командной строкой с правами администратора. Попробуем установить программу MAFFT и выполнить задание из предыдущего степа."
      ]
    },
    {
      "cell_type": "code",
      "metadata": {
        "id": "AQHhWrSduP6S"
      },
      "source": [
        "!apt install mafft\n",
        "!wget https://github.com/BostonGene-education/Stepik/raw/main/00_Introduction/00_Overview/sequences.fasta\n",
        "!mafft sequences.fasta > alignment.fasta"
      ],
      "execution_count": null,
      "outputs": []
    },
    {
      "cell_type": "markdown",
      "metadata": {
        "id": "pPTPI112yptr"
      },
      "source": [
        "Теперь посмотрим на содержимоей файла <code>alignment.fasta</code>. Перед нами должно быть полноценное выравнивание."
      ]
    },
    {
      "cell_type": "code",
      "metadata": {
        "colab": {
          "base_uri": "https://localhost:8080/"
        },
        "id": "dl-Yl4tMuXBJ",
        "outputId": "d28ae323-e93b-4233-a291-2ed044663905"
      },
      "source": [
        "!cat alignment.fasta"
      ],
      "execution_count": 19,
      "outputs": [
        {
          "output_type": "stream",
          "text": [
            ">sp|P02008|HBAZ_HUMAN Hemoglobin subunit zeta OS=Homo sapiens OX=9606 GN=HBZ PE=1 SV=2\n",
            "-MSLTKTERTIIVSMWAKISTQADTIGTETLERLFLSHPQTKTYFPHF-DLHP-----GS\n",
            "AQLRAHGSKVVAAVGDAVKSIDDIGGALSKLSELHAYILRVDPVNFKLLSHCLLVTLAAR\n",
            "FPADFTAEAHAAWDKFLSVVSSVLTEKYR\n",
            ">sp|P02100|HBE_HUMAN Hemoglobin subunit epsilon OS=Homo sapiens OX=9606 GN=HBE1 PE=1 SV=2\n",
            "MVHFTAEEKAAVTSLWSKM--NVEEAGGEALGRLLVVYPWTQRFFDSFGNLSSPSAILGN\n",
            "PKVKAHGKKVLTSFGDAIKNMDNLKPAFAKLSELHCDKLHVDPENFKLLGNVMVIILATH\n",
            "FGKEFTPEVQAAWQKLVSAVAIALAHKYH\n",
            ">sp|P69891|HBG1_HUMAN Hemoglobin subunit gamma-1 OS=Homo sapiens OX=9606 GN=HBG1 PE=1 SV=2\n",
            "MGHFTEEDKATITSLWGKV--NVEDAGGETLGRLLVVYPWTQRFFDSFGNLSSASAIMGN\n",
            "PKVKAHGKKVLTSLGDAIKHLDDLKGTFAQLSELHCDKLHVDPENFKLLGNVLVTVLAIH\n",
            "FGKEFTPEVQASWQKMVTAVASALSSRYH\n",
            ">sp|P02042|HBD_HUMAN Hemoglobin subunit delta OS=Homo sapiens OX=9606 GN=HBD PE=1 SV=2\n",
            "MVHLTPEEKTAVNALWGKV--NVDAVGGEALGRLLVVYPWTQRFFESFGDLSSPDAVMGN\n",
            "PKVKAHGKKVLGAFSDGLAHLDNLKGTFSQLSELHCDKLHVDPENFRLLGNVLVCVLARN\n",
            "FGKEFTPQMQAAYQKVVAGVANALAHKYH\n",
            ">sp|P69905|HBA_HUMAN Hemoglobin subunit alpha OS=Homo sapiens OX=9606 GN=HBA1 PE=1 SV=2\n",
            "-MVLSPADKTNVKAAWGKVGAHAGEYGAEALERMFLSFPTTKTYFPHF-DLSH-----GS\n",
            "AQVKGHGKKVADALTNAVAHVDDMPNALSALSDLHAHKLRVDPVNFKLLSHCLLVTLAAH\n",
            "LPAEFTPAVHASLDKFLASVSTVLTSKYR\n",
            ">sp|P68871|HBB_HUMAN Hemoglobin subunit beta OS=Homo sapiens OX=9606 GN=HBB PE=1 SV=2\n",
            "MVHLTPEEKSAVTALWGKV--NVDEVGGEALGRLLVVYPWTQRFFESFGDLSTPDAVMGN\n",
            "PKVKAHGKKVLGAFSDGLAHLDNLKGTFATLSELHCDKLHVDPENFRLLGNVLVCVLAHH\n",
            "FGKEFTPPVQAAYQKVVAGVANALAHKYH\n"
          ],
          "name": "stdout"
        }
      ]
    },
    {
      "cell_type": "markdown",
      "metadata": {
        "id": "VTGJZsJry7fU"
      },
      "source": [
        "Теперь установим Biopython и посмотрим, что выведет последняя ячейка. Это и будет являться ответом на задание степа."
      ]
    },
    {
      "cell_type": "code",
      "metadata": {
        "id": "MkpF2IxJySPk"
      },
      "source": [
        "!pip install biopython"
      ],
      "execution_count": null,
      "outputs": []
    },
    {
      "cell_type": "code",
      "metadata": {
        "id": "1eNAE553y6QX"
      },
      "source": [
        "from Bio import AlignIO\n",
        "\n",
        "alignment = AlignIO.read(\"alignment.fasta\", \"fasta\")\n",
        "print(\"Число искомых аминокислот: {}\".format(str(alignment[0].seq).count(\"A\")))"
      ],
      "execution_count": null,
      "outputs": []
    }
  ]
}